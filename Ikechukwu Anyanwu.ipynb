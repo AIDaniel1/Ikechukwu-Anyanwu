{
 "cells": [
  {
   "cell_type": "code",
   "execution_count": null,
   "id": "1aeb21b2-47c5-4da8-aef6-6bbcc6331666",
   "metadata": {},
   "outputs": [],
   "source": [
    "import numpy as np\n",
    "import pandas as pd\n",
    "import matplotlib.pyplot as plt"
   ]
  },
  {
   "cell_type": "code",
   "execution_count": null,
   "id": "1914fed0-476e-42e0-8f81-6a5a784b2702",
   "metadata": {},
   "outputs": [],
   "source": [
    "order_detail = pd.read_csv(\"data_dictionary.csv\")\n",
    "pizza = pd.read_csv(\"pizzas.csv\")\n",
    "pizza_order = pd.read_csv(\"orders.csv\")\n",
    "# An error occured while loading this csv, so I used a difference econding \n",
    "pizza_types = pd.read_csv(\"pizza_types.csv\", encoding='iso-8859-1')\n",
    "pizza_order_details = pd.read_csv(\"order_details.csv\")\n"
   ]
  },
  {
   "cell_type": "code",
   "execution_count": null,
   "id": "23c931bc-bd26-426e-ba41-e98f2ea52420",
   "metadata": {},
   "outputs": [],
   "source": [
    "# This is the code I used to join the csv together before analyling \n",
    "combo = pd.concat([pizza.reset_index(drop=True),\n",
    "                   pizza_order.reset_index(drop=True),\n",
    "                   pizza_types.reset_index(drop=True),\n",
    "                   pizza_order_details.reset_index(drop=True)],axis=1)"
   ]
  },
  {
   "cell_type": "code",
   "execution_count": 13,
   "id": "6a977984-b3b0-4c0a-a5b3-9a9f039bd928",
   "metadata": {},
   "outputs": [
    {
     "name": "stdout",
     "output_type": "stream",
     "text": [
      "<class 'pandas.core.frame.DataFrame'>\n",
      "RangeIndex: 48620 entries, 0 to 48619\n",
      "Data columns (total 15 columns):\n",
      " #   Column            Non-Null Count  Dtype  \n",
      "---  ------            --------------  -----  \n",
      " 0   pizza_id          96 non-null     object \n",
      " 1   pizza_type_id     96 non-null     object \n",
      " 2   size              96 non-null     object \n",
      " 3   price             96 non-null     float64\n",
      " 4   order_id          21350 non-null  float64\n",
      " 5   date              21350 non-null  object \n",
      " 6   time              21350 non-null  object \n",
      " 7   pizza_type_id     32 non-null     object \n",
      " 8   name              32 non-null     object \n",
      " 9   category          32 non-null     object \n",
      " 10  ingredients       32 non-null     object \n",
      " 11  order_details_id  48620 non-null  int64  \n",
      " 12  order_id          48620 non-null  int64  \n",
      " 13  pizza_id          48620 non-null  object \n",
      " 14  quantity          48620 non-null  int64  \n",
      "dtypes: float64(2), int64(3), object(10)\n",
      "memory usage: 5.6+ MB\n"
     ]
    },
    {
     "data": {
      "text/html": [
       "<div>\n",
       "<style scoped>\n",
       "    .dataframe tbody tr th:only-of-type {\n",
       "        vertical-align: middle;\n",
       "    }\n",
       "\n",
       "    .dataframe tbody tr th {\n",
       "        vertical-align: top;\n",
       "    }\n",
       "\n",
       "    .dataframe thead th {\n",
       "        text-align: right;\n",
       "    }\n",
       "</style>\n",
       "<table border=\"1\" class=\"dataframe\">\n",
       "  <thead>\n",
       "    <tr style=\"text-align: right;\">\n",
       "      <th></th>\n",
       "      <th>pizza_id</th>\n",
       "      <th>pizza_type_id</th>\n",
       "      <th>size</th>\n",
       "      <th>price</th>\n",
       "      <th>order_id</th>\n",
       "      <th>date</th>\n",
       "      <th>time</th>\n",
       "      <th>pizza_type_id</th>\n",
       "      <th>name</th>\n",
       "      <th>category</th>\n",
       "      <th>ingredients</th>\n",
       "      <th>order_details_id</th>\n",
       "      <th>order_id</th>\n",
       "      <th>pizza_id</th>\n",
       "      <th>quantity</th>\n",
       "    </tr>\n",
       "  </thead>\n",
       "  <tbody>\n",
       "    <tr>\n",
       "      <th>48615</th>\n",
       "      <td>NaN</td>\n",
       "      <td>NaN</td>\n",
       "      <td>NaN</td>\n",
       "      <td>NaN</td>\n",
       "      <td>NaN</td>\n",
       "      <td>NaN</td>\n",
       "      <td>NaN</td>\n",
       "      <td>NaN</td>\n",
       "      <td>NaN</td>\n",
       "      <td>NaN</td>\n",
       "      <td>NaN</td>\n",
       "      <td>48616</td>\n",
       "      <td>21348</td>\n",
       "      <td>ckn_alfredo_m</td>\n",
       "      <td>1</td>\n",
       "    </tr>\n",
       "    <tr>\n",
       "      <th>48616</th>\n",
       "      <td>NaN</td>\n",
       "      <td>NaN</td>\n",
       "      <td>NaN</td>\n",
       "      <td>NaN</td>\n",
       "      <td>NaN</td>\n",
       "      <td>NaN</td>\n",
       "      <td>NaN</td>\n",
       "      <td>NaN</td>\n",
       "      <td>NaN</td>\n",
       "      <td>NaN</td>\n",
       "      <td>NaN</td>\n",
       "      <td>48617</td>\n",
       "      <td>21348</td>\n",
       "      <td>four_cheese_l</td>\n",
       "      <td>1</td>\n",
       "    </tr>\n",
       "    <tr>\n",
       "      <th>48617</th>\n",
       "      <td>NaN</td>\n",
       "      <td>NaN</td>\n",
       "      <td>NaN</td>\n",
       "      <td>NaN</td>\n",
       "      <td>NaN</td>\n",
       "      <td>NaN</td>\n",
       "      <td>NaN</td>\n",
       "      <td>NaN</td>\n",
       "      <td>NaN</td>\n",
       "      <td>NaN</td>\n",
       "      <td>NaN</td>\n",
       "      <td>48618</td>\n",
       "      <td>21348</td>\n",
       "      <td>napolitana_s</td>\n",
       "      <td>1</td>\n",
       "    </tr>\n",
       "    <tr>\n",
       "      <th>48618</th>\n",
       "      <td>NaN</td>\n",
       "      <td>NaN</td>\n",
       "      <td>NaN</td>\n",
       "      <td>NaN</td>\n",
       "      <td>NaN</td>\n",
       "      <td>NaN</td>\n",
       "      <td>NaN</td>\n",
       "      <td>NaN</td>\n",
       "      <td>NaN</td>\n",
       "      <td>NaN</td>\n",
       "      <td>NaN</td>\n",
       "      <td>48619</td>\n",
       "      <td>21349</td>\n",
       "      <td>mexicana_l</td>\n",
       "      <td>1</td>\n",
       "    </tr>\n",
       "    <tr>\n",
       "      <th>48619</th>\n",
       "      <td>NaN</td>\n",
       "      <td>NaN</td>\n",
       "      <td>NaN</td>\n",
       "      <td>NaN</td>\n",
       "      <td>NaN</td>\n",
       "      <td>NaN</td>\n",
       "      <td>NaN</td>\n",
       "      <td>NaN</td>\n",
       "      <td>NaN</td>\n",
       "      <td>NaN</td>\n",
       "      <td>NaN</td>\n",
       "      <td>48620</td>\n",
       "      <td>21350</td>\n",
       "      <td>bbq_ckn_s</td>\n",
       "      <td>1</td>\n",
       "    </tr>\n",
       "  </tbody>\n",
       "</table>\n",
       "</div>"
      ],
      "text/plain": [
       "      pizza_id pizza_type_id size  price  order_id date time pizza_type_id  \\\n",
       "48615      NaN           NaN  NaN    NaN       NaN  NaN  NaN           NaN   \n",
       "48616      NaN           NaN  NaN    NaN       NaN  NaN  NaN           NaN   \n",
       "48617      NaN           NaN  NaN    NaN       NaN  NaN  NaN           NaN   \n",
       "48618      NaN           NaN  NaN    NaN       NaN  NaN  NaN           NaN   \n",
       "48619      NaN           NaN  NaN    NaN       NaN  NaN  NaN           NaN   \n",
       "\n",
       "      name category ingredients  order_details_id  order_id       pizza_id  \\\n",
       "48615  NaN      NaN         NaN             48616     21348  ckn_alfredo_m   \n",
       "48616  NaN      NaN         NaN             48617     21348  four_cheese_l   \n",
       "48617  NaN      NaN         NaN             48618     21348   napolitana_s   \n",
       "48618  NaN      NaN         NaN             48619     21349     mexicana_l   \n",
       "48619  NaN      NaN         NaN             48620     21350      bbq_ckn_s   \n",
       "\n",
       "       quantity  \n",
       "48615         1  \n",
       "48616         1  \n",
       "48617         1  \n",
       "48618         1  \n",
       "48619         1  "
      ]
     },
     "execution_count": 13,
     "metadata": {},
     "output_type": "execute_result"
    }
   ],
   "source": [
    "# these methods were used to inspect my Data Frame\n",
    "combo.info()\n",
    "combo.tail()\n",
    "combo.shape"
   ]
  },
  {
   "cell_type": "code",
   "execution_count": null,
   "id": "45d10e86-114c-49d9-be74-f69ea9d90fa0",
   "metadata": {},
   "outputs": [],
   "source": [
    "# Total Sale \n",
    "combo[\"order_id\"].count()"
   ]
  },
  {
   "cell_type": "code",
   "execution_count": null,
   "id": "2fb30e5e-8a46-4b10-aad1-f13269013026",
   "metadata": {},
   "outputs": [],
   "source": [
    "# Total Reveune \n",
    "rev = combo[\"price\"] * combo[\"quantity\"]\n",
    "# combo[\"price\"].dtypes\n",
    "rev"
   ]
  },
  {
   "cell_type": "code",
   "execution_count": null,
   "id": "2c6178db-396a-4683-b9c2-faa1a4bc645b",
   "metadata": {},
   "outputs": [],
   "source": [
    "# Total Quatity sold\n",
    "combo[\"quantity\"].sum()"
   ]
  },
  {
   "cell_type": "code",
   "execution_count": 41,
   "id": "30490a55-9804-4d2b-95b8-2c124d9c5427",
   "metadata": {},
   "outputs": [
    {
     "data": {
      "text/html": [
       "<div>\n",
       "<style scoped>\n",
       "    .dataframe tbody tr th:only-of-type {\n",
       "        vertical-align: middle;\n",
       "    }\n",
       "\n",
       "    .dataframe tbody tr th {\n",
       "        vertical-align: top;\n",
       "    }\n",
       "\n",
       "    .dataframe thead th {\n",
       "        text-align: right;\n",
       "    }\n",
       "</style>\n",
       "<table border=\"1\" class=\"dataframe\">\n",
       "  <thead>\n",
       "    <tr style=\"text-align: right;\">\n",
       "      <th></th>\n",
       "      <th>pizza_id</th>\n",
       "      <th>pizza_type_id</th>\n",
       "      <th>size</th>\n",
       "      <th>price</th>\n",
       "      <th>order_id</th>\n",
       "      <th>date</th>\n",
       "      <th>time</th>\n",
       "      <th>name</th>\n",
       "      <th>category</th>\n",
       "      <th>ingredients</th>\n",
       "      <th>order_details_id</th>\n",
       "      <th>quantity</th>\n",
       "    </tr>\n",
       "  </thead>\n",
       "  <tbody>\n",
       "    <tr>\n",
       "      <th>0</th>\n",
       "      <td>bbq_ckn_s</td>\n",
       "      <td>bbq_ckn</td>\n",
       "      <td>S</td>\n",
       "      <td>12.75</td>\n",
       "      <td>1.0</td>\n",
       "      <td>2015-01-01</td>\n",
       "      <td>11:38:36</td>\n",
       "      <td>The Barbecue Chicken Pizza</td>\n",
       "      <td>Chicken</td>\n",
       "      <td>Barbecued Chicken, Red Peppers, Green Peppers,...</td>\n",
       "      <td>1</td>\n",
       "      <td>1</td>\n",
       "    </tr>\n",
       "    <tr>\n",
       "      <th>1</th>\n",
       "      <td>bbq_ckn_m</td>\n",
       "      <td>bbq_ckn</td>\n",
       "      <td>M</td>\n",
       "      <td>16.75</td>\n",
       "      <td>2.0</td>\n",
       "      <td>2015-01-01</td>\n",
       "      <td>11:57:40</td>\n",
       "      <td>The California Chicken Pizza</td>\n",
       "      <td>Chicken</td>\n",
       "      <td>Chicken, Artichoke, Spinach, Garlic, Jalapeno ...</td>\n",
       "      <td>2</td>\n",
       "      <td>1</td>\n",
       "    </tr>\n",
       "    <tr>\n",
       "      <th>2</th>\n",
       "      <td>bbq_ckn_l</td>\n",
       "      <td>bbq_ckn</td>\n",
       "      <td>L</td>\n",
       "      <td>20.75</td>\n",
       "      <td>3.0</td>\n",
       "      <td>2015-01-01</td>\n",
       "      <td>12:12:28</td>\n",
       "      <td>The Chicken Alfredo Pizza</td>\n",
       "      <td>Chicken</td>\n",
       "      <td>Chicken, Red Onions, Red Peppers, Mushrooms, A...</td>\n",
       "      <td>3</td>\n",
       "      <td>1</td>\n",
       "    </tr>\n",
       "    <tr>\n",
       "      <th>3</th>\n",
       "      <td>cali_ckn_s</td>\n",
       "      <td>cali_ckn</td>\n",
       "      <td>S</td>\n",
       "      <td>12.75</td>\n",
       "      <td>4.0</td>\n",
       "      <td>2015-01-01</td>\n",
       "      <td>12:16:31</td>\n",
       "      <td>The Chicken Pesto Pizza</td>\n",
       "      <td>Chicken</td>\n",
       "      <td>Chicken, Tomatoes, Red Peppers, Spinach, Garli...</td>\n",
       "      <td>4</td>\n",
       "      <td>1</td>\n",
       "    </tr>\n",
       "    <tr>\n",
       "      <th>4</th>\n",
       "      <td>cali_ckn_m</td>\n",
       "      <td>cali_ckn</td>\n",
       "      <td>M</td>\n",
       "      <td>16.75</td>\n",
       "      <td>5.0</td>\n",
       "      <td>2015-01-01</td>\n",
       "      <td>12:21:30</td>\n",
       "      <td>The Southwest Chicken Pizza</td>\n",
       "      <td>Chicken</td>\n",
       "      <td>Chicken, Tomatoes, Red Peppers, Red Onions, Ja...</td>\n",
       "      <td>5</td>\n",
       "      <td>1</td>\n",
       "    </tr>\n",
       "  </tbody>\n",
       "</table>\n",
       "</div>"
      ],
      "text/plain": [
       "     pizza_id pizza_type_id size  price  order_id        date      time  \\\n",
       "0   bbq_ckn_s       bbq_ckn    S  12.75       1.0  2015-01-01  11:38:36   \n",
       "1   bbq_ckn_m       bbq_ckn    M  16.75       2.0  2015-01-01  11:57:40   \n",
       "2   bbq_ckn_l       bbq_ckn    L  20.75       3.0  2015-01-01  12:12:28   \n",
       "3  cali_ckn_s      cali_ckn    S  12.75       4.0  2015-01-01  12:16:31   \n",
       "4  cali_ckn_m      cali_ckn    M  16.75       5.0  2015-01-01  12:21:30   \n",
       "\n",
       "                           name category  \\\n",
       "0    The Barbecue Chicken Pizza  Chicken   \n",
       "1  The California Chicken Pizza  Chicken   \n",
       "2     The Chicken Alfredo Pizza  Chicken   \n",
       "3       The Chicken Pesto Pizza  Chicken   \n",
       "4   The Southwest Chicken Pizza  Chicken   \n",
       "\n",
       "                                         ingredients  order_details_id  \\\n",
       "0  Barbecued Chicken, Red Peppers, Green Peppers,...                 1   \n",
       "1  Chicken, Artichoke, Spinach, Garlic, Jalapeno ...                 2   \n",
       "2  Chicken, Red Onions, Red Peppers, Mushrooms, A...                 3   \n",
       "3  Chicken, Tomatoes, Red Peppers, Spinach, Garli...                 4   \n",
       "4  Chicken, Tomatoes, Red Peppers, Red Onions, Ja...                 5   \n",
       "\n",
       "   quantity  \n",
       "0         1  \n",
       "1         1  \n",
       "2         1  \n",
       "3         1  \n",
       "4         1  "
      ]
     },
     "execution_count": 41,
     "metadata": {},
     "output_type": "execute_result"
    }
   ],
   "source": [
    "# 4.How many pizza types do they sell\n",
    "\n",
    "combo = combo.loc[:, ~combo.columns.duplicated(keep='first')]\n",
    "combo.head()\n",
    "#  This pices of code removes duplicate series but keeps the first one"
   ]
  },
  {
   "cell_type": "code",
   "execution_count": 30,
   "id": "e9db5ab3-2008-4a1f-a943-c0376ddb2442",
   "metadata": {},
   "outputs": [
    {
     "name": "stdout",
     "output_type": "stream",
     "text": [
      " There are 96 types of Pizza being sold\n"
     ]
    }
   ],
   "source": [
    "# 4.\tHow many pizza types do they sell?\n",
    "ty = combo[\"pizza_id\"].nunique()\n",
    "print(f\" There are {ty} types of Pizza being sold\")"
   ]
  },
  {
   "cell_type": "code",
   "execution_count": 37,
   "id": "1ed4e8ec-7b46-4b4d-bf0b-a90fc5204609",
   "metadata": {},
   "outputs": [
    {
     "name": "stdout",
     "output_type": "stream",
     "text": [
      "The average price of the Pizza is $16.440625\n"
     ]
    }
   ],
   "source": [
    "# 5.\tFind the average price of the pizzas.\n",
    "aver = combo[\"price\"].mean()\n",
    "print(f\"The average price of the Pizza is ${aver}\")"
   ]
  },
  {
   "cell_type": "code",
   "execution_count": 42,
   "id": "8f57452a-f6a5-489d-b63c-4591096eea00",
   "metadata": {},
   "outputs": [
    {
     "name": "stdout",
     "output_type": "stream",
     "text": [
      "Peak sales hours:\n",
      "hour\n",
      "12.0    2563\n",
      "13.0    2507\n",
      "18.0    2443\n",
      "17.0    2380\n",
      "19.0    2055\n",
      "16.0    1960\n",
      "20.0    1672\n",
      "14.0    1499\n",
      "15.0    1487\n",
      "11.0    1252\n",
      "21.0    1222\n",
      "22.0     677\n",
      "23.0      29\n",
      "10.0       9\n",
      "9.0        1\n",
      "Name: quantity, dtype: int64\n"
     ]
    }
   ],
   "source": [
    "# 6.\tWhat are the peak hours of sales?\n",
    "\n",
    "# I Combine date and time columns into a single timestamp\n",
    "\n",
    "combo['timestamp'] = pd.to_datetime(combo['date'] + ' ' + combo['time'])\n",
    "\n",
    "# I Now extract the hour\n",
    "combo['hour'] = combo['timestamp'].dt.hour\n",
    "\n",
    "# Then Find peak hours\n",
    "hourly_sales = combo.groupby('hour')['quantity'].sum().sort_values(ascending=False)\n",
    "\n",
    "print(\"Peak sales hours:\")\n",
    "print(hourly_sales)\n"
   ]
  },
  {
   "cell_type": "code",
   "execution_count": 47,
   "id": "fbb992e9-4723-489a-96ed-edb21091b1b4",
   "metadata": {},
   "outputs": [
    {
     "name": "stdout",
     "output_type": "stream",
     "text": [
      "Peak hours are from 12:00 with 2563 sales\n"
     ]
    }
   ],
   "source": [
    "print(\"Peak hours are from 12:00 with 2563 sales\")"
   ]
  },
  {
   "cell_type": "code",
   "execution_count": 81,
   "id": "fc4546b8-3b42-47de-bdcc-9310249a30c4",
   "metadata": {},
   "outputs": [],
   "source": [
    "# 7.\tFind the total sales made on each day of the week. Which day of the week is when sales are made the most?\n",
    "# CODE NOT WORKING AS EXPECTED \n",
    "# Extract day of week (0=Monday, 6=Sunday)\n",
    "\n",
    "# combo['day_of_week_num'] = combo['time'].dt.dayofweek()\n",
    "# combo['day_of_week_name'] = combo['time'].dt.day_name()\n",
    "\n",
    "# # Group by day of week and sum sales\n",
    "# daily_sales = combo.groupby('day_of_week_name')['quantity'].sum()\n",
    "\n",
    "# # Sort by sales (descending)\n",
    "# daily_sales_sorted = daily_sales.sort_values(ascending=False)\n",
    "\n",
    "# print(\"=== TOTAL SALES BY DAY OF WEEK ===\")\n",
    "# for day, sales in daily_sales_sorted.items():\n",
    "#     print(f\"{day}: {sales:,} sales\")\n",
    "\n",
    "# # Find peak day\n",
    "# peak_day = daily_sales_sorted.index[0]\n",
    "# peak_sales = daily_sales_sorted.iloc[0]\n",
    "\n",
    "# print(f\"\\n🏆 PEAK SALES DAY: {peak_day} with {peak_sales:,} sales\")"
   ]
  },
  {
   "cell_type": "code",
   "execution_count": 77,
   "id": "8450ca28-0b61-471e-9c82-90b87761c464",
   "metadata": {},
   "outputs": [
    {
     "name": "stdout",
     "output_type": "stream",
     "text": [
      "=== TOP 5 BEST-SELLING ITEMS (by quantity) ===\n",
      "1. the_greek_xxl: 35.95 units sold\n",
      "2. the_greek_xl: 25.5 units sold\n",
      "3. brie_carre_s: 23.65 units sold\n",
      "4. ital_veggie_l: 21.0 units sold\n",
      "5. ckn_pesto_l: 20.75 units sold\n"
     ]
    }
   ],
   "source": [
    "# 8.\tFind the top 5 bestselling pizzas.\n",
    "fr = combo.groupby(\"pizza_id\")[\"price\"].sum().sort_values(ascending=False).head(5)\n",
    "\n",
    "print(\"=== TOP 5 BEST-SELLING ITEMS (by quantity) ===\")\n",
    "for rank, (product, quantity) in enumerate(fr.items(), 1):\n",
    "    print(f\"{rank}. {product}: {quantity:,} units sold\")"
   ]
  },
  {
   "cell_type": "code",
   "execution_count": 79,
   "id": "4ff97013-d290-4156-9914-2e3219b5274e",
   "metadata": {},
   "outputs": [
    {
     "name": "stdout",
     "output_type": "stream",
     "text": [
      "=== MONTHLY SALES ===\n",
      "2025-09: 21,756 sales\n",
      "\n",
      "=== MONTH-OVER-MONTH GROWTH ===\n",
      "2025-09: 21,756 sales (Baseline)\n"
     ]
    }
   ],
   "source": [
    "# 9.\tFind the sales made in each month. Any trend noticeable?\n",
    "# sale_trend = combo.groupby(\"quantity\")[\"price\"].sum()\n",
    "# sale_trend\n",
    "# Extract year and month\n",
    "combo['year_month'] = combo['timestamp'].dt.to_period('M')\n",
    "combo['year'] = combo['timestamp'].dt.year\n",
    "combo['month'] = combo['timestamp'].dt.month\n",
    "combo['month_name'] = combo['timestamp'].dt.month_name()\n",
    "\n",
    "# Group by month and sum sales\n",
    "monthly_sales = combo.groupby('year_month')['quantity'].sum()\n",
    "\n",
    "print(\"=== MONTHLY SALES ===\")\n",
    "for month, sales in monthly_sales.items():\n",
    "    print(f\"{month}: {sales:,} sales\")\n",
    "\n",
    "# Calculate month-over-month growth\n",
    "monthly_growth = monthly_sales.pct_change() * 100\n",
    "\n",
    "print(\"\\n=== MONTH-OVER-MONTH GROWTH ===\")\n",
    "for i, (month, sales) in enumerate(monthly_sales.items()):\n",
    "    if i > 0:  # Skip first month (no previous data)\n",
    "        growth = monthly_growth.iloc[i]\n",
    "        trend = \"📈\" if growth > 0 else \"📉\" if growth < 0 else \"➡️\"\n",
    "        print(f\"{month}: {sales:,} sales {trend} ({growth:+.1f}%)\")\n",
    "    else:\n",
    "        print(f\"{month}: {sales:,} sales (Baseline)\")"
   ]
  },
  {
   "cell_type": "code",
   "execution_count": 80,
   "id": "062cae2d-9bec-4f14-a534-97c72fba684a",
   "metadata": {},
   "outputs": [
    {
     "data": {
      "text/plain": [
       "2"
      ]
     },
     "execution_count": 80,
     "metadata": {},
     "output_type": "execute_result"
    }
   ],
   "source": [
    "# 10.\tAre there pizza types that are not doing well on the menu?\n",
    "sale_trend = combo.groupby(\"pizza_id\")[\"quantity\"].sum()\n",
    "sale_trend.max()"
   ]
  },
  {
   "cell_type": "code",
   "execution_count": null,
   "id": "ebc46a2e-6fb4-4fbb-a993-0dbd935dd99f",
   "metadata": {},
   "outputs": [],
   "source": []
  }
 ],
 "metadata": {
  "kernelspec": {
   "display_name": "Python 3 (ipykernel)",
   "language": "python",
   "name": "python3"
  },
  "language_info": {
   "codemirror_mode": {
    "name": "ipython",
    "version": 3
   },
   "file_extension": ".py",
   "mimetype": "text/x-python",
   "name": "python",
   "nbconvert_exporter": "python",
   "pygments_lexer": "ipython3",
   "version": "3.13.5"
  }
 },
 "nbformat": 4,
 "nbformat_minor": 5
}
